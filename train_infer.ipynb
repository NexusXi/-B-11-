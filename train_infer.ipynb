{
 "cells": [
  {
   "cell_type": "markdown",
   "metadata": {
    "collapsed": false
   },
   "source": [
    "## 基于飞桨实现乒乓球时序动作定位大赛b榜第11名方案\n",
    "\n",
    "本方案基于数个基线方案和[PaddleVIdeo](https://github.com/PaddlePaddle/PaddleVideo)官方代码仓进行优化\n",
    "\n",
    "reference:\n",
    "\n",
    "[使用Paddle实现乒乓球时序动作定位开源方案](https://aistudio.baidu.com/aistudio/projectdetail/3389378)\n",
    "\n",
    "[使用Football Vocation 分割数据实现乒乓球时序动作定位](https://aistudio.baidu.com/aistudio/projectdetail/3434130)\n",
    "\n",
    "### 思路：\n",
    "\n",
    "**数据集的处理**：首先通过观察训练集的label分布，研究了动作的平均时长分布；\n",
    "\n",
    "之后参考了Football Vocation的处理方法，调整窗口大小；\n",
    "\n",
    "**训练**：尝试了余弦退火等多种策略，不同的学习率和warmup策略；\n",
    "\n",
    "尝试了不同的epochs数量。\n",
    "\n",
    "\n",
    "### 赛题介绍\n",
    "\n",
    "在众多大规模视频分析情景中，从冗长未经修剪的视频中定位并识别短时间内发生的人体动作成为一个备受关注的课题。当前针对人体动作检测的解决方案在大规模视频集上难以奏效，高效地处理大规模视频数据仍然是计算机视觉领域一个充满挑战的任务。其核心问题可以分为两部分，一是动作识别算法的复杂度仍旧较高，二是缺少能够产生更少视频提案数量的方法（更加关注短时动作本身的提案）。\n",
    "\n",
    "这里所指的视频动作提案是指一些包含特定动作的候选视频片段。为了能够适应大规模视频分析任务，时序动作提案应该尽可能满足下面两个需求：\n",
    "（1）更高的处理效率，例如可以设计出使时序视频片段编码和打分更高效的机制；\n",
    "（2）更强的判别性能，例如可以准确定位动作发生的时间区间。\n",
    "\n",
    "本次比赛旨在激发更多的开发者和研究人员关注并参与有关视频动作定位的研究，创建性能更出色的动作定位模型。\n",
    "\n",
    "### 数据集介绍\n",
    "\n",
    "本次比赛的数据集包含了19-21赛季兵乓球国际比赛（世界杯、世锦赛、亚锦赛，奥运会）和国内比赛（全运会，乒超联赛）中标准单机位高清转播画面的特征信息，共包含912条视频特征文件，每个视频时长在0～6分钟不等，特征维度为2048，以pkl格式保存。我们对特征数据中面朝镜头的运动员的回合内挥拍动作进行了标注，单个动作时常在0～2秒不等，训练数据为729条标注视频，A测数据为91条视频，B测数据为92条视频，训练数据标签以json格式给出。\n",
    "\n",
    "### 数据集预处理\n",
    "\n",
    "本方案采用PaddleVideo中的BMN模型。BMN模型是百度自研，2019年ActivityNet夺冠方案，为视频动作定位问题中proposal的生成提供高效的解决方案，在PaddlePaddle上首次开源。此模型引入边界匹配(Boundary-Matching, BM)机制来评估proposal的置信度，按照proposal开始边界的位置及其长度将所有可能存在的proposal组合成一个二维的BM置信度图，图中每个点的数值代表其所对应的proposal的置信度分数。网络由三个模块组成，基础模块作为主干网络处理输入的特征序列，TEM模块预测每一个时序位置属于动作开始、动作结束的概率，PEM模块生成BM置信度图。\n",
    "\n",
    "本赛题中的数据包含912条ppTSM抽取的视频特征，特征保存为pkl格式，文件名对应视频名称，读取pkl之后以(num_of_frames, 2048)向量形式代表单个视频特征。其中num_of_frames是不固定的，同时数量也比较大，所以pkl的文件并不能直接用于训练。同时由于乒乓球每个动作时间非常短，为了可以让模型更好的识别动作，所以这里将数据进行分割。\n",
    "\n",
    "\n",
    "1. 首先解压数据集\n",
    "执行以下命令下载b榜测试集并解压所有数据集，解压之后将压缩包删除，保证项目空间小于100G。否则项目会被终止。"
   ]
  },
  {
   "cell_type": "code",
   "execution_count": 1,
   "metadata": {
    "collapsed": false
   },
   "outputs": [],
   "source": [
    "%cd /home/aistudio/data/\n",
    "!wget https://bj.bcebos.com/v1/ai-studio-online/a34561eb976644e79808072528bf6d8bccb3f8d0b20a4d7499af0db282e01d87 -O Features_competition_test_B.tar.gz\n",
    "\n",
    "!tar xf Features_competition_test_B.tar.gz\n",
    "!tar xf data122998/Features_competition_train.tar.gz\n",
    "!tar xf data123004/Features_competition_test_A.tar.gz\n",
    "!cp data122998/label_cls14_train.json .\n",
    "!rm -rf data12*"
   ]
  },
  {
   "cell_type": "code",
   "execution_count": 2,
   "metadata": {
    "collapsed": false
   },
   "outputs": [],
   "source": [
    "import os\n",
    "import sys\n",
    "import json\n",
    "import random\n",
    "import pickle\n",
    "import numpy as np"
   ]
  },
  {
   "cell_type": "markdown",
   "metadata": {
    "collapsed": false
   },
   "source": [
    "2.下面对数据进行一些分析和观察"
   ]
  },
  {
   "cell_type": "code",
   "execution_count": 2,
   "metadata": {
    "collapsed": false
   },
   "outputs": [],
   "source": [
    "source_path = \"/home/aistudio/data/label_cls14_train.json\""
   ]
  },
  {
   "cell_type": "code",
   "execution_count": 4,
   "metadata": {
    "collapsed": false
   },
   "outputs": [],
   "source": [
    "import json\n",
    "with open('/home/aistudio/data/label_cls14_train.json') as f:\n",
    "    data = json.load(f)\n",
    "f.close()"
   ]
  },
  {
   "cell_type": "code",
   "execution_count": 5,
   "metadata": {
    "collapsed": false
   },
   "outputs": [],
   "source": [
    "dura = []\r\n",
    "for i in range(len(data['gts'])):\r\n",
    "    for j in range(len(data['gts'][i]['actions'])):\r\n",
    "        # print(i)\r\n",
    "        # print(j)\r\n",
    "        dura.append(data['gts'][i]['actions'][j]['end_id']-data['gts'][i]['actions'][j]['start_id'])"
   ]
  },
  {
   "cell_type": "markdown",
   "metadata": {
    "collapsed": false
   },
   "source": [
    "观察数据的分布，发现平均值为0.74，最大值为33"
   ]
  },
  {
   "cell_type": "code",
   "execution_count": 6,
   "metadata": {
    "collapsed": false
   },
   "outputs": [
    {
     "data": {
      "text/html": [
       "<div>\n",
       "<style scoped>\n",
       "    .dataframe tbody tr th:only-of-type {\n",
       "        vertical-align: middle;\n",
       "    }\n",
       "\n",
       "    .dataframe tbody tr th {\n",
       "        vertical-align: top;\n",
       "    }\n",
       "\n",
       "    .dataframe thead th {\n",
       "        text-align: right;\n",
       "    }\n",
       "</style>\n",
       "<table border=\"1\" class=\"dataframe\">\n",
       "  <thead>\n",
       "    <tr style=\"text-align: right;\">\n",
       "      <th></th>\n",
       "      <th>0</th>\n",
       "    </tr>\n",
       "  </thead>\n",
       "  <tbody>\n",
       "    <tr>\n",
       "      <th>count</th>\n",
       "      <td>19054.000000</td>\n",
       "    </tr>\n",
       "    <tr>\n",
       "      <th>mean</th>\n",
       "      <td>0.735617</td>\n",
       "    </tr>\n",
       "    <tr>\n",
       "      <th>std</th>\n",
       "      <td>0.510685</td>\n",
       "    </tr>\n",
       "    <tr>\n",
       "      <th>min</th>\n",
       "      <td>0.040000</td>\n",
       "    </tr>\n",
       "    <tr>\n",
       "      <th>25%</th>\n",
       "      <td>0.480000</td>\n",
       "    </tr>\n",
       "    <tr>\n",
       "      <th>50%</th>\n",
       "      <td>0.600000</td>\n",
       "    </tr>\n",
       "    <tr>\n",
       "      <th>75%</th>\n",
       "      <td>0.840000</td>\n",
       "    </tr>\n",
       "    <tr>\n",
       "      <th>max</th>\n",
       "      <td>33.200000</td>\n",
       "    </tr>\n",
       "  </tbody>\n",
       "</table>\n",
       "</div>"
      ],
      "text/plain": [
       "                  0\n",
       "count  19054.000000\n",
       "mean       0.735617\n",
       "std        0.510685\n",
       "min        0.040000\n",
       "25%        0.480000\n",
       "50%        0.600000\n",
       "75%        0.840000\n",
       "max       33.200000"
      ]
     },
     "execution_count": 6,
     "metadata": {},
     "output_type": "execute_result"
    }
   ],
   "source": [
    "import numpy as np\r\n",
    "import pandas as pd\r\n",
    "import matplotlib.pyplot as plt\r\n",
    "import seaborn as sb\r\n",
    "%matplotlib inline \r\n",
    "\r\n",
    "\r\n",
    "df = pd.DataFrame(dura)\r\n",
    "df.describe()"
   ]
  },
  {
   "cell_type": "markdown",
   "metadata": {
    "collapsed": false
   },
   "source": [
    "可视化数据分布"
   ]
  },
  {
   "cell_type": "code",
   "execution_count": 7,
   "metadata": {
    "collapsed": false
   },
   "outputs": [
    {
     "data": {
      "text/plain": [
       "<matplotlib.axes._subplots.AxesSubplot at 0x7f932fc88310>"
      ]
     },
     "execution_count": 7,
     "metadata": {},
     "output_type": "execute_result"
    },
    {
     "data": {
      "image/png": "[encoded data removed]",
      "text/plain": [
       "<Figure size 432x288 with 1 Axes>"
      ]
     },
     "metadata": {},
     "output_type": "display_data"
    }
   ],
   "source": [
    "sb.distplot(dura, color=\"b\", bins=20, rug=True)\r\n",
    "sb.distplot(dura, hist=False)"
   ]
  },
  {
   "cell_type": "markdown",
   "metadata": {
    "collapsed": false
   },
   "source": [
    "去除大于4的数值后的分布"
   ]
  },
  {
   "cell_type": "code",
   "execution_count": 8,
   "metadata": {
    "collapsed": false
   },
   "outputs": [
    {
     "data": {
      "text/plain": [
       "<matplotlib.axes._subplots.AxesSubplot at 0x7f9305d8f050>"
      ]
     },
     "execution_count": 8,
     "metadata": {},
     "output_type": "execute_result"
    },
    {
     "data": {
      "image/png": "[encoded data removed]",
      "text/plain": [
       "<Figure size 432x288 with 1 Axes>"
      ]
     },
     "metadata": {},
     "output_type": "display_data"
    }
   ],
   "source": [
    "mid  = df.median()\r\n",
    "df[(df>4)] = np.nan\r\n",
    "df.fillna(mid,inplace=True)\r\n",
    "df.describe()\r\n",
    "sb.distplot(df, color=\"b\", bins=20, rug=True)\r\n",
    "sb.distplot(df, hist=False)"
   ]
  },
  {
   "cell_type": "markdown",
   "metadata": {
    "collapsed": false
   },
   "source": [
    "3. 解压好数据之后，首先对label标注文件进行分割。本项目在Baseline的基础上参照[FootballAciton](https://github.com/PaddlePaddle/PaddleVideo/blob/application/FootballAction/datasets/script/get_instance_for_bmn.py)的划分方法，进一步优化训练数据。"
   ]
  },
  {
   "cell_type": "code",
   "execution_count": null,
   "metadata": {
    "collapsed": false
   },
   "outputs": [],
   "source": [
    "#按照9:1划分训练 测试集\n",
    "l=len(data['gts'])\n",
    "l=int(l*0.1)\n",
    "val = {'gts': data['gts'][0:l], 'fps': 25}\n",
    "jsonString = json.dumps(val, indent=4, ensure_ascii=False)\n",
    "jsonFile = open('/home/aistudio/data/label_cls14_val.json', 'w')\n",
    "jsonFile.write(jsonString)\n",
    "jsonFile.close()\n",
    "\n",
    "train = {'gts': data['gts'][l:], 'fps': 25}\n",
    "jsonString = json.dumps(train, indent=4, ensure_ascii=False)\n",
    "jsonFile = open('/home/aistudio/data/label_cls14_train.json', 'w')\n",
    "jsonFile.write(jsonString)\n",
    "jsonFile.close()"
   ]
  },
  {
   "cell_type": "code",
   "execution_count": null,
   "metadata": {
    "collapsed": false
   },
   "outputs": [],
   "source": [
    "\"\"\"\n",
    "get instance for bmn\n",
    "使用winds=4的滑窗，将所有子窗口的长度之和小于winds的进行合并\n",
    "合并后，父窗口代表bmn训练数据，子窗口代表tsn训练数据\n",
    "\"\"\"\n",
    "import os\n",
    "import sys\n",
    "import json\n",
    "import random\n",
    "import pickle\n",
    "import numpy as np\n",
    "import math\n",
    "\n",
    "# for table tennis\n",
    "bmn_window = 4\n",
    "dataset = \"/home/aistudio/data\"\n",
    "feat_dir = dataset + '/Features_competition_train'\n",
    "out_dir = dataset + '/Input_for_bmn'\n",
    "label_files = {\n",
    "    'train': 'label_cls14_train.json',\n",
    "    'validation': 'label_cls14_val.json'\n",
    "}\n",
    "\n",
    "global fps\n",
    "\n",
    "\n",
    "def gen_gts_for_bmn(gts_data):\n",
    "    \"\"\"\n",
    "    @param, gts_data, original gts for action detection\n",
    "    @return, gts_bmn, output gts dict for bmn\n",
    "    \"\"\"\n",
    "    fps = gts_data['fps']\n",
    "    gts_bmn = {'fps': fps, 'gts': []}\n",
    "    for sub_item in gts_data['gts']:\n",
    "        url = sub_item['url']\n",
    "\n",
    "        max_length = sub_item['total_frames']\n",
    "\n",
    "        gts_bmn['gts'].append({\n",
    "            'url': url,\n",
    "            'total_frames': max_length,\n",
    "            'root_actions': []\n",
    "        })\n",
    "        sub_actions = sub_item['actions']\n",
    "        # 跳过没有动作的片段\n",
    "        if len(sub_actions) == 0:\n",
    "            continue\n",
    "        # duration > bmn_window， 动作持续时间大于bmn_windows，直接删除\n",
    "        for idx, sub_action in enumerate(sub_actions):\n",
    "            if sub_action['end_id'] - sub_action['start_id'] > bmn_window:\n",
    "                sub_actions.pop(idx)\n",
    "\n",
    "        # 【滑动窗口，把每一个视频里的动作片段提取出来】\n",
    "        root_actions = [sub_actions[0]]\n",
    "        # before_id, 前一动作的最后一帧\n",
    "        # after_id, 后一动作的第一帧\n",
    "        before_id = 0\n",
    "        for idx in range(1, len(sub_actions)):\n",
    "            cur_action = sub_actions[idx]\n",
    "            duration = (cur_action['end_id'] - root_actions[0]['start_id'])\n",
    "            if duration > bmn_window:  # windows只能包住一个动作就包，包不住就包多个\n",
    "                after_id = cur_action['start_id']\n",
    "                gts_bmn['gts'][-1]['root_actions'].append({\n",
    "                    'before_id':\n",
    "                    before_id,\n",
    "                    'after_id':\n",
    "                    after_id,\n",
    "                    'actions':\n",
    "                    root_actions\n",
    "                })\n",
    "                before_id = root_actions[-1]['end_id']  #更新滑窗\n",
    "                root_actions = [cur_action]\n",
    "            else:\n",
    "                root_actions.append(cur_action)\n",
    "            if idx == len(sub_actions) - 1:\n",
    "                after_id = max_length\n",
    "                gts_bmn['gts'][-1]['root_actions'].append({\n",
    "                    'before_id':\n",
    "                    before_id,\n",
    "                    'after_id':\n",
    "                    after_id,\n",
    "                    'actions':\n",
    "                    root_actions\n",
    "                })\n",
    "\n",
    "    return gts_bmn\n",
    "\n",
    "\n",
    "def combile_gts(gts_bmn, gts_process, mode):\n",
    "    \"\"\"\n",
    "    1、bmn_window 范围内只有一个动作，只取一个目标框\n",
    "    2、bmn_window 范围内有多个动作，取三个目标框(第一个动作、最后一个动作、所有动作)\n",
    "    \"\"\"\n",
    "    global fps\n",
    "    fps = gts_process['fps']\n",
    "    duration_second = bmn_window * 1.0\n",
    "    duration_frame = bmn_window * fps\n",
    "    feature_frame = duration_frame\n",
    "    for item in gts_process['gts']:\n",
    "        url = item['url']\n",
    "        basename = os.path.basename(url).split('.')[0]\n",
    "        root_actions = item['root_actions']\n",
    "        # 把每一个视频里的动作片段提取出来\n",
    "        for root_action in root_actions:\n",
    "            segments = []\n",
    "            # all actions\n",
    "            segments.append({\n",
    "                'actions': root_action['actions'],\n",
    "                'before_id': root_action['before_id'],\n",
    "                'after_id': root_action['after_id']\n",
    "            })\n",
    "            if len(root_action['actions']) > 1:  #如果有多个动作，则第一个动作和最后一个动作，额外添加一次\n",
    "                # first action\n",
    "                segments.append({\n",
    "                    'actions': [root_action['actions'][0]],\n",
    "                    'before_id':\n",
    "                    root_action['before_id'],\n",
    "                    'after_id':\n",
    "                    root_action['actions'][1]['start_id']\n",
    "                })\n",
    "                # last action\n",
    "                segments.append({\n",
    "                    'actions': [root_action['actions'][-1]],\n",
    "                    'before_id':\n",
    "                    root_action['actions'][-2]['end_id'],\n",
    "                    'after_id':\n",
    "                    root_action['after_id']\n",
    "                })\n",
    "\n",
    "            # 把动作片段处理成window size大小，以适配BMN输入\n",
    "            for segment in segments:\n",
    "                before_id = segment['before_id']\n",
    "                after_id = segment['after_id']\n",
    "                actions = segment['actions']\n",
    "                # before_id到after_id太长了，从里面取window_size帧，要先确定一个起始点，然后动作都要包住\n",
    "                box0 = max(actions[-1]['end_id'] - bmn_window,\n",
    "                           before_id)  #确定起始点\n",
    "                box1 = min(actions[0]['start_id'],\n",
    "                           after_id - bmn_window)  #确实起始点\n",
    "                if box0 <= box1:  # 一次检查\n",
    "                    if int(box0) - int(box1) == 0:\n",
    "                        cur_start = box0\n",
    "                    else:\n",
    "                        box0 = math.ceil(box0)\n",
    "                        box1 = int(box1)\n",
    "                        cur_start = random.randint(box0, box1)\n",
    "                    cur_end = cur_start + bmn_window\n",
    "                    cur_start = round(cur_start, 2)\n",
    "                    cur_end = round(cur_end, 2)\n",
    "                    name = '{}_{}_{}'.format(basename, cur_start, cur_end)\n",
    "                    annotations = []\n",
    "                    for action in actions:\n",
    "                        label = str(1.0 * action['label_ids'][0])\n",
    "                        label_name = action['label_names'][0]\n",
    "                        seg0 = 1.0 * round((action['start_id'] - cur_start),\n",
    "                                           2)  #存储的是到开始位置(时间: s)的距离\n",
    "                        seg1 = 1.0 * round((action['end_id'] - cur_start), 2)\n",
    "                        annotations.append({\n",
    "                            'segment': [seg0, seg1],\n",
    "                            'label': label,\n",
    "                            'label_name': label_name\n",
    "                        })\n",
    "                    gts_bmn[name] = {\n",
    "                        'duration_second': duration_second,\n",
    "                        'duration_frame': duration_frame,\n",
    "                        'feature_frame': feature_frame,\n",
    "                        'subset': mode,\n",
    "                        'annotations': annotations\n",
    "                    }\n",
    "\n",
    "    return gts_bmn\n",
    "\n",
    "\n",
    "def save_feature_to_numpy(gts_bmn, folder):\n",
    "    global fps\n",
    "    print('save feature for bmn ...')\n",
    "    if not os.path.exists(folder):\n",
    "        os.mkdir(folder)\n",
    "    process_gts_bmn = {}\n",
    "    miss = 0\n",
    "    for item, value in gts_bmn.items():\n",
    "        # split to rsplit 针对文件命名修改\n",
    "        basename, start_id, end_id = item.rsplit('_', 2)\n",
    "        if not basename in process_gts_bmn:\n",
    "            process_gts_bmn[basename] = []\n",
    "        process_gts_bmn[basename].append({\n",
    "            'name': item,\n",
    "            'start': float(start_id),\n",
    "            'end': float(end_id)\n",
    "        })\n",
    "    for item, values in process_gts_bmn.items():\n",
    "        feat_path = os.path.join(feat_dir, item + '.pkl')\n",
    "        feature_video = pickle.load(open(feat_path, 'rb'))['image_feature']\n",
    "        for value in values:\n",
    "            save_cut_name = os.path.join(folder, value['name'])\n",
    "            a, b, c = save_cut_name.rsplit('_', 2)\n",
    "            if float(b) > 360:\n",
    "                print(b)\n",
    "            start_frame = round(value['start'] * fps)\n",
    "            end_frame = round(value['end'] * fps)\n",
    "            if end_frame > len(feature_video):\n",
    "                miss += 1\n",
    "                continue\n",
    "            feature_cut = [\n",
    "                feature_video[i] for i in range(start_frame, end_frame)\n",
    "            ]\n",
    "            np_feature_cut = np.array(feature_cut, dtype=np.float32)\n",
    "            np.save(save_cut_name, np_feature_cut)\n",
    "\n",
    "    print('miss number (broken sample):', miss)\n",
    "\n",
    "\n",
    "if __name__ == \"__main__\":\n",
    "    if not os.path.exists(out_dir):\n",
    "        os.mkdir(out_dir)\n",
    "    gts_bmn = {}\n",
    "    for item, value in label_files.items():\n",
    "        label_file = os.path.join(dataset, value)\n",
    "        gts_data = json.load(open(label_file, 'rb'))\n",
    "        gts_process = gen_gts_for_bmn(gts_data)\n",
    "        gts_bmn = combile_gts(gts_bmn, gts_process, item)\n",
    "\n",
    "    with open(out_dir + '/label.json', 'w', encoding='utf-8') as f:\n",
    "        data = json.dumps(gts_bmn, indent=4, ensure_ascii=False)\n",
    "        f.write(data)\n",
    "\n",
    "    save_feature_to_numpy(gts_bmn, out_dir + '/feature')"
   ]
  },
  {
   "cell_type": "code",
   "execution_count": null,
   "metadata": {
    "collapsed": false
   },
   "outputs": [],
   "source": [
    "\n",
    "import copy\n",
    "import json\n",
    "import re\n",
    "import os\n",
    "\n",
    "url = '/home/aistudio/data/Input_for_bmn/feature/'\n",
    "directory = os.fsencode(url)\n",
    "count = 0\n",
    "target_set = []\n",
    "\n",
    "for file in os.listdir(directory):\n",
    "    filename = os.fsdecode(file)\n",
    "    target_name = filename.split('.npy')[0]\n",
    "    target_set.append(target_name)\n",
    "    count += 1\n",
    "print('Feature size:', len(target_set))\n",
    "\n",
    "with open('/home/aistudio/data/Input_for_bmn/label.json') as f:\n",
    "    data = json.load(f)\n",
    "\n",
    "delet_set = []\n",
    "for key in data.keys():\n",
    "    if not key in target_set:\n",
    "        delet_set.append(key)\n",
    "\n",
    "print('(Label) Original size:', len(data))\n",
    "print('(Label) Deleted size:', len(delet_set))\n",
    "\n",
    "for item in delet_set:\n",
    "    data.pop(item, None)\n",
    "\n",
    "print('(Label) Fixed size:', len(data))\n",
    "\n",
    "jsonString = json.dumps(data, indent=4, ensure_ascii=False)\n",
    "jsonFile = open('/home/aistudio/data/Input_for_bmn/label_fixed.json', 'w')\n",
    "jsonFile.write(jsonString)\n",
    "jsonFile.close()"
   ]
  },
  {
   "cell_type": "markdown",
   "metadata": {
    "collapsed": false
   },
   "source": [
    "执行完毕后，在data/Input_for_bmn/目录中生成了新的标注文件label_fixed.json。同时删除不必要的原始文件，降低空间占用"
   ]
  },
  {
   "cell_type": "code",
   "execution_count": null,
   "metadata": {
    "collapsed": false
   },
   "outputs": [],
   "source": [
    "!rm /home/aistudio/data/Features_competition_train/*.pkl"
   ]
  },
  {
   "cell_type": "markdown",
   "metadata": {
    "collapsed": false
   },
   "source": [
    "执行后在data/Features_competition_train/npy目录下生成了训练用的numpy数据。"
   ]
  },
  {
   "cell_type": "code",
   "execution_count": null,
   "metadata": {
    "collapsed": false
   },
   "outputs": [],
   "source": [
    "import os\n",
    "import os.path as osp\n",
    "import glob\n",
    "import pickle\n",
    "import paddle\n",
    "\n",
    "import numpy as np\n",
    "\n",
    "file_list = glob.glob(\"/home/aistudio/data/Features_competition_test_A/*.pkl\")\n",
    "\n",
    "max_frames = 9000\n",
    "\n",
    "npy_path = (\"/home/aistudio/data/Features_competition_test_A/npy/\")\n",
    "if not osp.exists(npy_path):\n",
    "    os.makedirs(npy_path)\n",
    "\n",
    "for f in file_list:\n",
    "    video_feat = pickle.load(open(f, 'rb'))\n",
    "    tensor = paddle.to_tensor(video_feat['image_feature'])\n",
    "    pad_num = 9000 - tensor.shape[0]\n",
    "    pad1d = paddle.nn.Pad1D([0, pad_num])\n",
    "    tensor = paddle.transpose(tensor, [1, 0])\n",
    "    tensor = paddle.unsqueeze(tensor, axis=0)\n",
    "    tensor = pad1d(tensor)\n",
    "    tensor = paddle.squeeze(tensor, axis=0)\n",
    "    tensor = paddle.transpose(tensor, [1, 0])\n",
    "\n",
    "    sps = paddle.split(tensor, num_or_sections=90, axis=0)\n",
    "    for i, s in enumerate(sps):\n",
    "        file_name = osp.join(npy_path, f.split('/')[-1].split('.')[0] + f\"_{i}.npy\")\n",
    "        np.save(file_name, s.detach().numpy())\n",
    "    pass"
   ]
  },
  {
   "cell_type": "markdown",
   "metadata": {
    "collapsed": false
   },
   "source": [
    "### 训练模型\n",
    "\n",
    "数据集分割好之后，可以开始训练模型，使用以下命令进行模型训练。首先需要安装PaddleVideo的依赖包。"
   ]
  },
  {
   "cell_type": "code",
   "execution_count": null,
   "metadata": {
    "collapsed": false
   },
   "outputs": [],
   "source": [
    "\n",
    "# 从Github上下载PaddleVideo代码\n",
    "!git clone https://github.com/PaddlePaddle/PaddleVideo.git"
   ]
  },
  {
   "cell_type": "code",
   "execution_count": null,
   "metadata": {
    "collapsed": false
   },
   "outputs": [],
   "source": [
    "%cd /home/aistudio/PaddleVideo/\n",
    "!pip install -r requirements.txt"
   ]
  },
  {
   "cell_type": "markdown",
   "metadata": {
    "collapsed": false
   },
   "source": [
    "开始训练模型\n",
    "\n",
    "config文件位于/home/aistudio/model/bmn.yaml \n",
    "\n",
    "训练时的恢复训练这一参数参考了官方repo，需要在训练时指定 -o参数，同时在config文件中指定resume_from的模型权重位置\n",
    "\n",
    "训练截图：\n",
    "\n",
    "![](https://ai-studio-static-online.cdn.bcebos.com/08f6c050f19748a6ace92c6c6e49ce996e9344729b304c6fa98e6ac583101dbf)\n",
    "\n",
    "最终用于比赛提交的模型权重是第50个，位置是/home/aistudio/model/BMN_epoch_00050.pdparams"
   ]
  },
  {
   "cell_type": "markdown",
   "metadata": {
    "collapsed": false
   },
   "source": [
    "训练时采用了不同的batdch_size策略，提升不大\n",
    "\n",
    "采用了不同的学习率策略：[https://github.com/PaddlePaddle/PaddleVideo/blob/develop/paddlevideo/solver/custom_lr.py](https://github.com/PaddlePaddle/PaddleVideo/blob/develop/paddlevideo/solver/custom_lr.py)\n",
    "\n",
    "使用CustomWarmupCosineDecay比直接decay的a榜分数提高了0.5左右"
   ]
  },
  {
   "cell_type": "code",
   "execution_count": null,
   "metadata": {
    "collapsed": false
   },
   "outputs": [],
   "source": [
    "%cd /home/aistudio/PaddleVideo/\r\n",
    "#!python main.py -c  configs/localization/bmn.yaml\r\n",
    "!python -B main.py  --validate -c  /home/aistudio/model/bmn.yaml -o resume_epoch=45"
   ]
  },
  {
   "cell_type": "markdown",
   "metadata": {
    "collapsed": false
   },
   "source": [
    "\n",
    "### 模型导出\n",
    "将训练好的模型导出用于推理预测，执行以下脚本。"
   ]
  },
  {
   "cell_type": "code",
   "execution_count": null,
   "metadata": {
    "collapsed": false
   },
   "outputs": [],
   "source": [
    "%cd /home/aistudio/PaddleVideo/\n",
    "!python tools/export_model.py -c configs/localization/bmn.yaml -p /home/aistudio/model/BMN_epoch_00050.pdparams -o inference/BMN"
   ]
  },
  {
   "cell_type": "markdown",
   "metadata": {
    "collapsed": false
   },
   "source": [
    "### 推理预测\n",
    "\n",
    "使用导出的模型进行推理预测，执行以下命令。"
   ]
  },
  {
   "cell_type": "code",
   "execution_count": null,
   "metadata": {
    "collapsed": false
   },
   "outputs": [],
   "source": [
    "%cd /home/aistudio/PaddleVideo/\n",
    "# !python tools/predict.py --input_file /home/aistudio/data/Features_competition_test_A/npy \\\n",
    "!python tools/predict.py --input_file /home/aistudio/data/Features_competition_test_B/npy \\\n",
    " --config configs/localization/bmn.yaml \\\n",
    " --model_file inference/BMN/BMN.pdmodel \\\n",
    " --params_file inference/BMN/BMN.pdiparams \\\n",
    " --use_gpu=True \\\n",
    " --use_tensorrt=False"
   ]
  },
  {
   "cell_type": "markdown",
   "metadata": {
    "collapsed": false
   },
   "source": [
    "上面程序输出的json文件是分割后的预测结果，还需要将这些文件组合到一起。执行以下脚本："
   ]
  },
  {
   "cell_type": "code",
   "execution_count": null,
   "metadata": {
    "collapsed": false
   },
   "outputs": [],
   "source": [
    "import os\n",
    "import json\n",
    "import glob\n",
    "\n",
    "# json_path = \"/home/aistudio/data/Features_competition_test_A/npy/\"\n",
    "json_path = \"/home/aistudio/data/Features_competition_test_B/npy/\"\n",
    "json_files = glob.glob(os.path.join(json_path, '*_*.json'))"
   ]
  },
  {
   "cell_type": "code",
   "execution_count": null,
   "metadata": {
    "collapsed": false
   },
   "outputs": [],
   "source": [
    "submit_dic = {\"version\": None,\n",
    "              \"results\": {},\n",
    "              \"external_data\": {}\n",
    "              }\n",
    "results = submit_dic['results']\n",
    "for json_file in json_files:\n",
    "    j = json.load(open(json_file, 'r'))\n",
    "    old_video_name = list(j.keys())[0]\n",
    "    video_name = list(j.keys())[0].split('/')[-1].split('.')[0]\n",
    "    video_name, video_no = video_name.split('_')\n",
    "    start_id = int(video_no) * 4\n",
    "    if len(j[old_video_name]) == 0:\n",
    "        continue\n",
    "    for i, top in enumerate(j[old_video_name]):\n",
    "        if video_name in results.keys():\n",
    "            results[video_name].append({'score': round(top['score'], 2),\n",
    "                                        'segment': [round(top['segment'][0] + start_id, 2), round(top['segment'][1] + start_id, 2)]})\n",
    "        else:\n",
    "            results[video_name] = [{'score':round(top['score'], 2),\n",
    "                                        'segment': [round(top['segment'][0] + start_id, 2), round(top['segment'][1] + start_id, 2)]}]\n",
    "\n",
    "json.dump(submit_dic, open('/home/aistudio/submission.json', 'w', encoding='utf-8'))"
   ]
  },
  {
   "cell_type": "markdown",
   "metadata": {
    "collapsed": false
   },
   "source": [
    "最后会在用户目录生成submission.json文件，压缩后下载提交即可。"
   ]
  },
  {
   "cell_type": "code",
   "execution_count": null,
   "metadata": {
    "collapsed": false
   },
   "outputs": [
    {
     "name": "stdout",
     "output_type": "stream",
     "text": [
      "/home/aistudio\n",
      "  adding: submission.json (deflated 91%)\n"
     ]
    }
   ],
   "source": [
    "%cd /home/aistudio/\n",
    "!zip submission.zip submission.json"
   ]
  },
  {
   "cell_type": "markdown",
   "metadata": {
    "collapsed": false
   },
   "source": [
    "总结：\n",
    "\n",
    "提升点：\n",
    "\n",
    "数据处理上：使原始数据更均衡，\n",
    "\n",
    "网络结构上：可以优化base部分。[https://github.com/PaddlePaddle/PaddleVideo/blob/develop/paddlevideo/modeling/backbones/bmn.py](https://github.com/PaddlePaddle/PaddleVideo/blob/develop/paddlevideo/modeling/backbones/bmn.py)"
   ]
  }
 ],
 "metadata": {
  "kernelspec": {
   "display_name": "Python 3",
   "language": "python",
   "name": "py35-paddle1.2.0"
  },
  "language_info": {
   "codemirror_mode": {
    "name": "ipython",
    "version": 3
   },
   "file_extension": ".py",
   "mimetype": "text/x-python",
   "name": "python",
   "nbconvert_exporter": "python",
   "pygments_lexer": "ipython3",
   "version": "3.7.4"
  }
 },
 "nbformat": 4,
 "nbformat_minor": 1
}
